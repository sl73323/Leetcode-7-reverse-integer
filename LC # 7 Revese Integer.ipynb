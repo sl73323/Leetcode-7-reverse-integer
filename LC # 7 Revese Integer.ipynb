{
 "cells": [
  {
   "cell_type": "markdown",
   "metadata": {},
   "source": [
    "\n",
    "Given a 32-bit signed integer, reverse digits of an integer.\n",
    "\n",
    "Example 1:\n",
    "\n",
    "Input: 123\n",
    "Output: 321\n",
    "Example 2:\n",
    "\n",
    "Input: -123\n",
    "Output: -321\n",
    "Example 3:\n",
    "\n",
    "Input: 120\n",
    "Output: 21\n",
    "Note:\n",
    "Assume we are dealing with an environment which could only store integers within the 32-bit signed integer range:[−2^31,  2^31].\n",
    "For the purpose of this problem, assume that your function returns 0 when the reversed integer overflows.\n",
    " \n",
    "\n",
    "\n"
   ]
  },
  {
   "cell_type": "code",
   "execution_count": null,
   "metadata": {},
   "outputs": [],
   "source": [
    "class Solution:\n",
    "    def reverse(self, x: int) -> int:\n",
    "        if x<0:\n",
    "            r=-int(str(abs(x))[::-1])\n",
    "            return 0 if r< -2**31 else r\n",
    "        \n",
    "        if x>0:\n",
    "            r=int(str(x)[::-1])\n",
    "            return 0 if r> 2**31 else r\n",
    "        else:\n",
    "            return 0\n",
    "         "
   ]
  }
 ],
 "metadata": {
  "kernelspec": {
   "display_name": "Python 3",
   "language": "python",
   "name": "python3"
  },
  "language_info": {
   "codemirror_mode": {
    "name": "ipython",
    "version": 3
   },
   "file_extension": ".py",
   "mimetype": "text/x-python",
   "name": "python",
   "nbconvert_exporter": "python",
   "pygments_lexer": "ipython3",
   "version": "3.6.5"
  }
 },
 "nbformat": 4,
 "nbformat_minor": 2
}
